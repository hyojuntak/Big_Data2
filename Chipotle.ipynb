{
  "nbformat": 4,
  "nbformat_minor": 0,
  "metadata": {
    "colab": {
      "name": "Chipotle.ipynb",
      "provenance": [],
      "authorship_tag": "ABX9TyNJpQ6UvoNntgoARwTJDrMH",
      "include_colab_link": true
    },
    "kernelspec": {
      "name": "python3",
      "display_name": "Python 3"
    }
  },
  "cells": [
    {
      "cell_type": "markdown",
      "metadata": {
        "id": "view-in-github",
        "colab_type": "text"
      },
      "source": [
        "<a href=\"https://colab.research.google.com/github/hyojuntak/Python/blob/main/Chipotle.ipynb\" target=\"_parent\"><img src=\"https://colab.research.google.com/assets/colab-badge.svg\" alt=\"Open In Colab\"/></a>"
      ]
    },
    {
      "cell_type": "code",
      "metadata": {
        "id": "EKLnZ2mXVAwg",
        "outputId": "2fb7940d-68ce-4906-ec32-95c3254c5448",
        "colab": {
          "base_uri": "https://localhost:8080/",
          "height": 437
        }
      },
      "source": [
        "import pandas as pd\n",
        "file_path = 'chipotle.tsv'\n",
        "chipo = pd.read_csv(file_path, sep='\\t')\n",
        "print(chipo.shape) #shape() 데이터의 행과 열의 크기\n",
        "print(\"----------\") #info() 행의 구성정보 열의 구성정보\n",
        "print(chipo.info())\n",
        "#object는 데이터 프레임에서 일반적으로 문자열을 의미한다\n",
        "#null은 비어있음을 의미한다. 즉 결축값 \n",
        "#4622 -3376 = 12476개의 결축지가 존재 \n",
        "chipo.head(10) #chipo라는 dataframe에서 순서대로 10개의 row데이터를 보여준다\n",
        "#order_id = 주문번호\n",
        "#quantity = 주문수량\n",
        "#item_name = 주문한 아이템의 이름\n",
        "#choice_description = 주문한 아이템의 상세 선택 옵션\n",
        "#item_price = 가격정보\n",
        "#열, 피처의 형태,종류\n",
        "#수치형 피처 (Numerical Feature)\n",
        "#1)연속형 피처 : 어떤 구간안의 모든 값을 데이터로 가질 수 있다. 예) 키, 몸무게, 등등 \n",
        "#2)비연속형 피처 : 셀수 있으며, 일정 구간 안에서 정해진 몇 개의 값만 가진다. 예)나이\n",
        "#범주형 피처 (Categorical Feature)\n",
        "#1)순서가 있는 범주형 피처  : 순서가 있으나 수치는 아니다.예) 학점 A B C\n",
        "#2)순서가 없는 범주형 피처  : 데이터가 구분되면서도 순서는 없다. 예) 혈액형\n",
        "#describe() 함수 : 요약 통계량 \n",
        "chipo['order_id']=chipo['order_id'].astype(str) \n",
        "#order_id는 숫자의 의미를 가지지 않는다.\n",
        "print(chipo.describe()) \n",
        "#chipo 데이터 프레임에서 수치형 피처들의 기초 통계량을 확인한다.\n",
        "#mean 아이템의 평균 주문 수량 약 1.07 -> 대부분이 한 아이템에 대해 1개 정도만 주문했다.\n",
        "#->한 사람이 같은 메뉴를 여러개 구매하는 경우는 많지 않다. -> 혼자와서 구매하는 경우가 많다.\n",
        "\n",
        "\n"
      ],
      "execution_count": 120,
      "outputs": [
        {
          "output_type": "stream",
          "text": [
            "(4622, 5)\n",
            "----------\n",
            "<class 'pandas.core.frame.DataFrame'>\n",
            "RangeIndex: 4622 entries, 0 to 4621\n",
            "Data columns (total 5 columns):\n",
            " #   Column              Non-Null Count  Dtype \n",
            "---  ------              --------------  ----- \n",
            " 0   order_id            4622 non-null   int64 \n",
            " 1   quantity            4622 non-null   int64 \n",
            " 2   item_name           4622 non-null   object\n",
            " 3   choice_description  3376 non-null   object\n",
            " 4   item_price          4622 non-null   object\n",
            "dtypes: int64(2), object(3)\n",
            "memory usage: 180.7+ KB\n",
            "None\n",
            "          quantity\n",
            "count  4622.000000\n",
            "mean      1.075725\n",
            "std       0.410186\n",
            "min       1.000000\n",
            "25%       1.000000\n",
            "50%       1.000000\n",
            "75%       1.000000\n",
            "max      15.000000\n"
          ],
          "name": "stdout"
        }
      ]
    },
    {
      "cell_type": "markdown",
      "metadata": {
        "id": "3YwN4cl8bEhl"
      },
      "source": [
        "# 새 섹션"
      ]
    },
    {
      "cell_type": "code",
      "metadata": {
        "id": "Z7MjdQTxrqbn",
        "outputId": "8a646d9a-afd7-4912-ae21-61a549a40f2d",
        "colab": {
          "base_uri": "https://localhost:8080/",
          "height": 52
        }
      },
      "source": [
        "#unique() 함수로 범주형 피처의 개수 \n",
        "#두가지 피처는 범주형이기 때문에 unique()함수를 사용 \n",
        "print(len(chipo['order_id'].unique())) #order_id 개수를 출력\n",
        "print(len(chipo['item_name'].unique())) #item_name 개수를 출력 \n"
      ],
      "execution_count": 121,
      "outputs": [
        {
          "output_type": "stream",
          "text": [
            "1834\n",
            "50\n"
          ],
          "name": "stdout"
        }
      ]
    },
    {
      "cell_type": "code",
      "metadata": {
        "id": "PLLu5nWUs112",
        "outputId": "61edc049-ed09-41fa-bf6b-f104441998aa",
        "colab": {
          "base_uri": "https://localhost:8080/",
          "height": 209
        }
      },
      "source": [
        "#==========================================================================\n",
        "#<Step 2 인사이트의 발견> \n",
        "#가장 많이 주문한 제품은 무엇일까? \n",
        "#DataFrame['column]형태에 value_counts()를 적용해서 분석 \n",
        "item_count = chipo['item_name'].value_counts()[:10]\n",
        "for idx, (val, cnt) in enumerate(item_count.iteritems(),1):\n",
        "  print('Top',idx,'',val,cnt)\n",
        "\n",
        "\n",
        "\n",
        "\n",
        "\n",
        "\n",
        "# 제품당 주문한 양은 얼마인가\n",
        "chipo['item_name'].value_counts().index.tolist()[0]"
      ],
      "execution_count": 122,
      "outputs": [
        {
          "output_type": "stream",
          "text": [
            "Top 1  Chicken Bowl 726\n",
            "Top 2  Chicken Burrito 553\n",
            "Top 3  Chips and Guacamole 479\n",
            "Top 4  Steak Burrito 368\n",
            "Top 5  Canned Soft Drink 301\n",
            "Top 6  Chips 211\n",
            "Top 7  Steak Bowl 211\n",
            "Top 8  Bottled Water 162\n",
            "Top 9  Chicken Soft Tacos 115\n",
            "Top 10  Chips and Fresh Tomato Salsa 110\n"
          ],
          "name": "stdout"
        },
        {
          "output_type": "execute_result",
          "data": {
            "application/vnd.google.colaboratory.intrinsic+json": {
              "type": "string"
            },
            "text/plain": [
              "'Chicken Bowl'"
            ]
          },
          "metadata": {
            "tags": []
          },
          "execution_count": 122
        }
      ]
    },
    {
      "cell_type": "code",
      "metadata": {
        "id": "CZrYdl5JwMJh",
        "outputId": "b0fd6696-64b7-437d-c42e-cc5805c75fab",
        "colab": {
          "base_uri": "https://localhost:8080/",
          "height": 227
        }
      },
      "source": [
        "# 아이템별 주문 개수와 총량 \n",
        "item_quantity = chipo.groupby('item_name')['quantity'].sum()\n",
        "item_quantity[:10]"
      ],
      "execution_count": 123,
      "outputs": [
        {
          "output_type": "execute_result",
          "data": {
            "text/plain": [
              "item_name\n",
              "6 Pack Soft Drink         55\n",
              "Barbacoa Bowl             66\n",
              "Barbacoa Burrito          91\n",
              "Barbacoa Crispy Tacos     12\n",
              "Barbacoa Salad Bowl       10\n",
              "Barbacoa Soft Tacos       25\n",
              "Bottled Water            211\n",
              "Bowl                       4\n",
              "Burrito                    6\n",
              "Canned Soda              126\n",
              "Name: quantity, dtype: int64"
            ]
          },
          "metadata": {
            "tags": []
          },
          "execution_count": 123
        }
      ]
    },
    {
      "cell_type": "code",
      "metadata": {
        "id": "buAV9abl1x0g",
        "outputId": "3b4c9956-3f2f-40bd-e1f3-608ebf870b20",
        "colab": {
          "base_uri": "https://localhost:8080/",
          "height": 281
        }
      },
      "source": [
        "#간단한 시각화\n",
        "#시각화를 하면 숫자와 문자로만 되어있는 데이터에서는 보이지 않던 정보를 발견할수도 있다.\n",
        "%matplotlib inline \n",
        "#브라우저에서 결과 그림을 바로 볼수 있게 설정 \n",
        "import numpy as np \n",
        "import matplotlib.pyplot as plt\n",
        "item_name_list = item_quantity.index.tolist()\n",
        "x_pos = np.arange(len(item_name_list))\n",
        "order_cnt = item_quantity.values.tolist()\n",
        "plt.bar(x_pos, order_cnt, align='center')\n",
        "plt.ylabel('ordered_item_count')\n",
        "plt.title('Distribution of all ordered item')\n",
        "plt.show()"
      ],
      "execution_count": 111,
      "outputs": [
        {
          "output_type": "display_data",
          "data": {
            "image/png": "[encoded data removed]",
            "text/plain": [
              "<Figure size 432x288 with 1 Axes>"
            ]
          },
          "metadata": {
            "tags": [],
            "needs_background": "light"
          }
        }
      ]
    },
    {
      "cell_type": "markdown",
      "metadata": {
        "id": "VZ6QsH0T3PG1"
      },
      "source": [
        ""
      ]
    },
    {
      "cell_type": "code",
      "metadata": {
        "id": "3OpwWerb4qmD",
        "outputId": "60b0b20a-6831-45f2-dcf9-98947c77701c",
        "colab": {
          "base_uri": "https://localhost:8080/",
          "height": 367
        }
      },
      "source": [
        "#=====================================================================================\n",
        "#<Step 3 데이터 전처리>\n",
        "#apply lamda 함수를 이용한 데이터 전처리 \n",
        "#item_price가 문자열이기 때문에 ($) 요약 통계를 구할 수 있다.\n",
        "print(chipo.info())\n",
        "print('-------------------------------------------------')\n",
        "chipo['item_price'].head()"
      ],
      "execution_count": 124,
      "outputs": [
        {
          "output_type": "stream",
          "text": [
            "<class 'pandas.core.frame.DataFrame'>\n",
            "RangeIndex: 4622 entries, 0 to 4621\n",
            "Data columns (total 5 columns):\n",
            " #   Column              Non-Null Count  Dtype \n",
            "---  ------              --------------  ----- \n",
            " 0   order_id            4622 non-null   object\n",
            " 1   quantity            4622 non-null   int64 \n",
            " 2   item_name           4622 non-null   object\n",
            " 3   choice_description  3376 non-null   object\n",
            " 4   item_price          4622 non-null   object\n",
            "dtypes: int64(1), object(4)\n",
            "memory usage: 180.7+ KB\n",
            "None\n",
            "-------------------------------------------------\n"
          ],
          "name": "stdout"
        },
        {
          "output_type": "execute_result",
          "data": {
            "text/plain": [
              "0     $2.39 \n",
              "1     $3.39 \n",
              "2     $3.39 \n",
              "3     $2.39 \n",
              "4    $16.98 \n",
              "Name: item_price, dtype: object"
            ]
          },
          "metadata": {
            "tags": []
          },
          "execution_count": 124
        }
      ]
    },
    {
      "cell_type": "code",
      "metadata": {
        "id": "EuCR2-VI63ic"
      },
      "source": [
        "# $ 기호 제거 \n",
        "#chipo['item_price'] = chipo['item_price'].apply(lamda e: float(e[1:]))\n",
        "#chipo.describe()"
      ],
      "execution_count": 113,
      "outputs": []
    },
    {
      "cell_type": "code",
      "metadata": {
        "id": "3gFtal--9BNw"
      },
      "source": [
        ""
      ],
      "execution_count": 113,
      "outputs": []
    },
    {
      "cell_type": "code",
      "metadata": {
        "id": "sGVmyiH28F-F",
        "outputId": "4e2b5f54-4bb0-4961-8622-68e80bdc0d9a",
        "colab": {
          "base_uri": "https://localhost:8080/",
          "height": 122
        }
      },
      "source": [
        "chipo['item_price'].head()"
      ],
      "execution_count": 125,
      "outputs": [
        {
          "output_type": "execute_result",
          "data": {
            "text/plain": [
              "0     $2.39 \n",
              "1     $3.39 \n",
              "2     $3.39 \n",
              "3     $2.39 \n",
              "4    $16.98 \n",
              "Name: item_price, dtype: object"
            ]
          },
          "metadata": {
            "tags": []
          },
          "execution_count": 125
        }
      ]
    },
    {
      "cell_type": "code",
      "metadata": {
        "id": "wCtLPe_29DjB",
        "outputId": "a0d578e5-fb98-43ed-9186-f1a575ff4131",
        "colab": {
          "base_uri": "https://localhost:8080/",
          "height": 104
        }
      },
      "source": [
        "#=====================================================================================\n",
        "#<Step 4 탐색적 분석>\n",
        "#마치 데이터와 스무고개 놀이와 비슷하다. 조금씩 복잡한 질문들로 데이터 분석 \n",
        "#주문당 평균 금액 출력\n",
        "#한 주문에 10달러 이상 사용한 주문들의 Id를 출력 \n",
        "#각 아이템의 가격은\n",
        "#가장 비싼 주문에서 Item이 몇개 팔렸는지 \n",
        "#주문당 평균 금액\n",
        "chipo.groupby('order_id')['item_price'].sum()\n",
        "chipo.groupby('order_id')['item_price'].sum().describe()[:10]\n",
        "\n"
      ],
      "execution_count": 115,
      "outputs": [
        {
          "output_type": "execute_result",
          "data": {
            "text/plain": [
              "count             1834\n",
              "unique             642\n",
              "top       $8.75 $4.45 \n",
              "freq                61\n",
              "Name: item_price, dtype: object"
            ]
          },
          "metadata": {
            "tags": []
          },
          "execution_count": 115
        }
      ]
    },
    {
      "cell_type": "code",
      "metadata": {
        "id": "LFdCUgM8RvOX",
        "outputId": "7b847bb7-cad2-4bdb-adef-264f3a3da5e7",
        "colab": {
          "base_uri": "https://localhost:8080/",
          "height": 104
        }
      },
      "source": [
        "chipo.groupby('order_id')['item_price'].sum().describe()[:10]\n"
      ],
      "execution_count": 116,
      "outputs": [
        {
          "output_type": "execute_result",
          "data": {
            "text/plain": [
              "count             1834\n",
              "unique             642\n",
              "top       $8.75 $4.45 \n",
              "freq                61\n",
              "Name: item_price, dtype: object"
            ]
          },
          "metadata": {
            "tags": []
          },
          "execution_count": 116
        }
      ]
    },
    {
      "cell_type": "code",
      "metadata": {
        "id": "Gr4MIbiUUjtH",
        "outputId": "eb59c88b-3a85-4c7e-a112-d5849617c793",
        "colab": {
          "base_uri": "https://localhost:8080/",
          "height": 343
        }
      },
      "source": [
        "chipo_orderid_group = chipo.groupby('order_id').sum() \n",
        "results = chipo_orderid_group[chipo_orderid_group.item_price >= 10] \n",
        "print(results[:10]) \n",
        "print(results.index.values)"
      ],
      "execution_count": 135,
      "outputs": [
        {
          "output_type": "error",
          "ename": "AttributeError",
          "evalue": "ignored",
          "traceback": [
            "\u001b[0;31m---------------------------------------------------------------------------\u001b[0m",
            "\u001b[0;31mAttributeError\u001b[0m                            Traceback (most recent call last)",
            "\u001b[0;32m<ipython-input-135-69227d4b53cd>\u001b[0m in \u001b[0;36m<module>\u001b[0;34m()\u001b[0m\n\u001b[1;32m      1\u001b[0m \u001b[0mchipo_orderid_group\u001b[0m \u001b[0;34m=\u001b[0m \u001b[0mchipo\u001b[0m\u001b[0;34m.\u001b[0m\u001b[0mgroupby\u001b[0m\u001b[0;34m(\u001b[0m\u001b[0;34m'order_id'\u001b[0m\u001b[0;34m)\u001b[0m\u001b[0;34m.\u001b[0m\u001b[0msum\u001b[0m\u001b[0;34m(\u001b[0m\u001b[0;34m)\u001b[0m\u001b[0;34m\u001b[0m\u001b[0;34m\u001b[0m\u001b[0m\n\u001b[0;32m----> 2\u001b[0;31m \u001b[0mresults\u001b[0m \u001b[0;34m=\u001b[0m \u001b[0mchipo_orderid_group\u001b[0m\u001b[0;34m[\u001b[0m\u001b[0mchipo_orderid_group\u001b[0m\u001b[0;34m.\u001b[0m\u001b[0mitem_price\u001b[0m \u001b[0;34m>=\u001b[0m \u001b[0;36m10\u001b[0m\u001b[0;34m]\u001b[0m\u001b[0;34m\u001b[0m\u001b[0;34m\u001b[0m\u001b[0m\n\u001b[0m\u001b[1;32m      3\u001b[0m \u001b[0mprint\u001b[0m\u001b[0;34m(\u001b[0m\u001b[0mresults\u001b[0m\u001b[0;34m[\u001b[0m\u001b[0;34m:\u001b[0m\u001b[0;36m10\u001b[0m\u001b[0;34m]\u001b[0m\u001b[0;34m)\u001b[0m\u001b[0;34m\u001b[0m\u001b[0;34m\u001b[0m\u001b[0m\n\u001b[1;32m      4\u001b[0m \u001b[0mprint\u001b[0m\u001b[0;34m(\u001b[0m\u001b[0mresults\u001b[0m\u001b[0;34m.\u001b[0m\u001b[0mindex\u001b[0m\u001b[0;34m.\u001b[0m\u001b[0mvalues\u001b[0m\u001b[0;34m)\u001b[0m\u001b[0;34m\u001b[0m\u001b[0;34m\u001b[0m\u001b[0m\n",
            "\u001b[0;32m/usr/local/lib/python3.6/dist-packages/pandas/core/generic.py\u001b[0m in \u001b[0;36m__getattr__\u001b[0;34m(self, name)\u001b[0m\n\u001b[1;32m   5134\u001b[0m             \u001b[0;32mif\u001b[0m \u001b[0mself\u001b[0m\u001b[0;34m.\u001b[0m\u001b[0m_info_axis\u001b[0m\u001b[0;34m.\u001b[0m\u001b[0m_can_hold_identifiers_and_holds_name\u001b[0m\u001b[0;34m(\u001b[0m\u001b[0mname\u001b[0m\u001b[0;34m)\u001b[0m\u001b[0;34m:\u001b[0m\u001b[0;34m\u001b[0m\u001b[0;34m\u001b[0m\u001b[0m\n\u001b[1;32m   5135\u001b[0m                 \u001b[0;32mreturn\u001b[0m \u001b[0mself\u001b[0m\u001b[0;34m[\u001b[0m\u001b[0mname\u001b[0m\u001b[0;34m]\u001b[0m\u001b[0;34m\u001b[0m\u001b[0;34m\u001b[0m\u001b[0m\n\u001b[0;32m-> 5136\u001b[0;31m             \u001b[0;32mreturn\u001b[0m \u001b[0mobject\u001b[0m\u001b[0;34m.\u001b[0m\u001b[0m__getattribute__\u001b[0m\u001b[0;34m(\u001b[0m\u001b[0mself\u001b[0m\u001b[0;34m,\u001b[0m \u001b[0mname\u001b[0m\u001b[0;34m)\u001b[0m\u001b[0;34m\u001b[0m\u001b[0;34m\u001b[0m\u001b[0m\n\u001b[0m\u001b[1;32m   5137\u001b[0m \u001b[0;34m\u001b[0m\u001b[0m\n\u001b[1;32m   5138\u001b[0m     \u001b[0;32mdef\u001b[0m \u001b[0m__setattr__\u001b[0m\u001b[0;34m(\u001b[0m\u001b[0mself\u001b[0m\u001b[0;34m,\u001b[0m \u001b[0mname\u001b[0m\u001b[0;34m:\u001b[0m \u001b[0mstr\u001b[0m\u001b[0;34m,\u001b[0m \u001b[0mvalue\u001b[0m\u001b[0;34m)\u001b[0m \u001b[0;34m->\u001b[0m \u001b[0;32mNone\u001b[0m\u001b[0;34m:\u001b[0m\u001b[0;34m\u001b[0m\u001b[0;34m\u001b[0m\u001b[0m\n",
            "\u001b[0;31mAttributeError\u001b[0m: 'DataFrame' object has no attribute 'item_price'"
          ]
        }
      ]
    },
    {
      "cell_type": "code",
      "metadata": {
        "id": "PxGaukT8U3F5"
      },
      "source": [
        "#각 아이템의 가격을 구하기\n",
        "#동일 아이템을 1개 구매한 주문만 선별\n",
        "#item_name을 기준으로 group_by연산 수행하고 min()함수로 각 그룹별 최저가를 계산\n",
        "#item_price를 기준으로 정렬 sort_values()함수(series 데이터를 정렬)사용\n",
        "\n",
        "chipo_one_item = chipo[chipo.quantity==1]\n",
        "price_per_item = chipo_one_item.groupby('item_name').min()\n",
        "price_per_item.sort_values(by='item_price',ascending=False)[:18]\n",
        "\n",
        "\n"
      ],
      "execution_count": null,
      "outputs": []
    },
    {
      "cell_type": "code",
      "metadata": {
        "id": "G5TxrovNWrci"
      },
      "source": [
        "item_name_list = price_per_item.index.tolist()\n",
        "x_pos = np.arange(len(item_name_list))\n",
        "item_price = price_per_item['item_price'].tolist()\n",
        "plt.bar(x_pos, item_price, align='center')\n",
        "plt.hist(item_price)\n",
        "plt.show()\n"
      ],
      "execution_count": null,
      "outputs": []
    },
    {
      "cell_type": "code",
      "metadata": {
        "id": "GO4lafU5ZDnK"
      },
      "source": [
        "#가장 비싼 주문에서 item이 총 몇개 팔렸는지? \n",
        "chipo.groupby('order_id').sum().sort_values(by='item_price',ascending=False)[:5]"
      ],
      "execution_count": null,
      "outputs": []
    },
    {
      "cell_type": "code",
      "metadata": {
        "id": "yD01lr_xdrQO",
        "outputId": "056cb076-2dd3-46e0-fd59-027adfb7e7a6",
        "colab": {
          "base_uri": "https://localhost:8080/",
          "height": 215
        }
      },
      "source": [
        "chipo_salad = chipo[chipo['item_name']=='Veggie Salad Bowl']\n",
        "print(len(chipo_salad))\n",
        "chipo_salad.head(5)"
      ],
      "execution_count": 131,
      "outputs": [
        {
          "output_type": "stream",
          "text": [
            "18\n"
          ],
          "name": "stdout"
        },
        {
          "output_type": "execute_result",
          "data": {
            "text/html": [
              "<div>\n",
              "<style scoped>\n",
              "    .dataframe tbody tr th:only-of-type {\n",
              "        vertical-align: middle;\n",
              "    }\n",
              "\n",
              "    .dataframe tbody tr th {\n",
              "        vertical-align: top;\n",
              "    }\n",
              "\n",
              "    .dataframe thead th {\n",
              "        text-align: right;\n",
              "    }\n",
              "</style>\n",
              "<table border=\"1\" class=\"dataframe\">\n",
              "  <thead>\n",
              "    <tr style=\"text-align: right;\">\n",
              "      <th></th>\n",
              "      <th>order_id</th>\n",
              "      <th>quantity</th>\n",
              "      <th>item_name</th>\n",
              "      <th>choice_description</th>\n",
              "      <th>item_price</th>\n",
              "    </tr>\n",
              "  </thead>\n",
              "  <tbody>\n",
              "    <tr>\n",
              "      <th>186</th>\n",
              "      <td>83</td>\n",
              "      <td>1</td>\n",
              "      <td>Veggie Salad Bowl</td>\n",
              "      <td>[Fresh Tomato Salsa, [Fajita Vegetables, Rice,...</td>\n",
              "      <td>$11.25</td>\n",
              "    </tr>\n",
              "    <tr>\n",
              "      <th>295</th>\n",
              "      <td>128</td>\n",
              "      <td>1</td>\n",
              "      <td>Veggie Salad Bowl</td>\n",
              "      <td>[Fresh Tomato Salsa, [Fajita Vegetables, Lettu...</td>\n",
              "      <td>$11.25</td>\n",
              "    </tr>\n",
              "    <tr>\n",
              "      <th>455</th>\n",
              "      <td>195</td>\n",
              "      <td>1</td>\n",
              "      <td>Veggie Salad Bowl</td>\n",
              "      <td>[Fresh Tomato Salsa, [Fajita Vegetables, Rice,...</td>\n",
              "      <td>$11.25</td>\n",
              "    </tr>\n",
              "    <tr>\n",
              "      <th>496</th>\n",
              "      <td>207</td>\n",
              "      <td>1</td>\n",
              "      <td>Veggie Salad Bowl</td>\n",
              "      <td>[Fresh Tomato Salsa, [Rice, Lettuce, Guacamole...</td>\n",
              "      <td>$11.25</td>\n",
              "    </tr>\n",
              "    <tr>\n",
              "      <th>960</th>\n",
              "      <td>394</td>\n",
              "      <td>1</td>\n",
              "      <td>Veggie Salad Bowl</td>\n",
              "      <td>[Fresh Tomato Salsa, [Fajita Vegetables, Lettu...</td>\n",
              "      <td>$8.75</td>\n",
              "    </tr>\n",
              "  </tbody>\n",
              "</table>\n",
              "</div>"
            ],
            "text/plain": [
              "    order_id  ...  item_price\n",
              "186       83  ...     $11.25 \n",
              "295      128  ...     $11.25 \n",
              "455      195  ...     $11.25 \n",
              "496      207  ...     $11.25 \n",
              "960      394  ...      $8.75 \n",
              "\n",
              "[5 rows x 5 columns]"
            ]
          },
          "metadata": {
            "tags": []
          },
          "execution_count": 131
        }
      ]
    },
    {
      "cell_type": "code",
      "metadata": {
        "id": "AikWXy2he5j4",
        "outputId": "1f07ca24-2d8a-41d7-a570-50cd56f122b2",
        "colab": {
          "base_uri": "https://localhost:8080/",
          "height": 489
        }
      },
      "source": [
        "chipo_chicken = chipo[chipo['item_name']=='Chicken Bowl']\n",
        "chipo_chicken_ordersum = chipo_chicken.groupby('order_id').sum()['quantity']\n",
        "chipo_chicken_result = chipo_chicken_ordersum[chipo_chicken_ordersum>=2]\n",
        "print(chipo_chicken_result)\n",
        "print(chipo_chicken)"
      ],
      "execution_count": 134,
      "outputs": [
        {
          "output_type": "stream",
          "text": [
            "order_id\n",
            "1004    2\n",
            "1023    2\n",
            "1072    2\n",
            "1078    2\n",
            "1091    2\n",
            "       ..\n",
            "972     2\n",
            "973     3\n",
            "983     2\n",
            "986     2\n",
            "997     2\n",
            "Name: quantity, Length: 114, dtype: int64\n",
            "     order_id  ...  item_price\n",
            "4           2  ...     $16.98 \n",
            "5           3  ...     $10.98 \n",
            "13          7  ...     $11.25 \n",
            "19         10  ...      $8.75 \n",
            "26         13  ...      $8.49 \n",
            "...       ...  ...         ...\n",
            "4590     1825  ...     $11.25 \n",
            "4591     1825  ...      $8.75 \n",
            "4595     1826  ...      $8.75 \n",
            "4599     1827  ...      $8.75 \n",
            "4604     1828  ...      $8.75 \n",
            "\n",
            "[726 rows x 5 columns]\n"
          ],
          "name": "stdout"
        }
      ]
    },
    {
      "cell_type": "code",
      "metadata": {
        "id": "gS5UuMTAgdJR",
        "outputId": "5f939192-f149-4c16-e694-2734f0876dfb",
        "colab": {
          "base_uri": "https://localhost:8080/",
          "height": 262
        }
      },
      "source": [
        "#============================================================================\n",
        "#step 1 탐색 \n",
        "import pandas as pd\n",
        "import numpy as np \n",
        "import matplotlib.pyplot as plt\n",
        "drinks = pd.read_csv('drinks.csv')\n",
        "print(drinks.info())"
      ],
      "execution_count": 139,
      "outputs": [
        {
          "output_type": "stream",
          "text": [
            "<class 'pandas.core.frame.DataFrame'>\n",
            "RangeIndex: 193 entries, 0 to 192\n",
            "Data columns (total 6 columns):\n",
            " #   Column                        Non-Null Count  Dtype  \n",
            "---  ------                        --------------  -----  \n",
            " 0   country                       193 non-null    object \n",
            " 1   beer_servings                 193 non-null    int64  \n",
            " 2   spirit_servings               193 non-null    int64  \n",
            " 3   wine_servings                 193 non-null    int64  \n",
            " 4   total_litres_of_pure_alcohol  193 non-null    float64\n",
            " 5   continent                     170 non-null    object \n",
            "dtypes: float64(1), int64(3), object(2)\n",
            "memory usage: 9.2+ KB\n",
            "None\n"
          ],
          "name": "stdout"
        }
      ]
    },
    {
      "cell_type": "code",
      "metadata": {
        "id": "GgWdJY-_iFGh",
        "outputId": "1e07b97e-e921-4e15-c1aa-9625f3883740",
        "colab": {
          "base_uri": "https://localhost:8080/",
          "height": 287
        }
      },
      "source": [
        "drinks.head(5)\n",
        "drinks.describe()"
      ],
      "execution_count": 143,
      "outputs": [
        {
          "output_type": "execute_result",
          "data": {
            "text/html": [
              "<div>\n",
              "<style scoped>\n",
              "    .dataframe tbody tr th:only-of-type {\n",
              "        vertical-align: middle;\n",
              "    }\n",
              "\n",
              "    .dataframe tbody tr th {\n",
              "        vertical-align: top;\n",
              "    }\n",
              "\n",
              "    .dataframe thead th {\n",
              "        text-align: right;\n",
              "    }\n",
              "</style>\n",
              "<table border=\"1\" class=\"dataframe\">\n",
              "  <thead>\n",
              "    <tr style=\"text-align: right;\">\n",
              "      <th></th>\n",
              "      <th>beer_servings</th>\n",
              "      <th>spirit_servings</th>\n",
              "      <th>wine_servings</th>\n",
              "      <th>total_litres_of_pure_alcohol</th>\n",
              "    </tr>\n",
              "  </thead>\n",
              "  <tbody>\n",
              "    <tr>\n",
              "      <th>count</th>\n",
              "      <td>193.000000</td>\n",
              "      <td>193.000000</td>\n",
              "      <td>193.000000</td>\n",
              "      <td>193.000000</td>\n",
              "    </tr>\n",
              "    <tr>\n",
              "      <th>mean</th>\n",
              "      <td>106.160622</td>\n",
              "      <td>80.994819</td>\n",
              "      <td>49.450777</td>\n",
              "      <td>4.717098</td>\n",
              "    </tr>\n",
              "    <tr>\n",
              "      <th>std</th>\n",
              "      <td>101.143103</td>\n",
              "      <td>88.284312</td>\n",
              "      <td>79.697598</td>\n",
              "      <td>3.773298</td>\n",
              "    </tr>\n",
              "    <tr>\n",
              "      <th>min</th>\n",
              "      <td>0.000000</td>\n",
              "      <td>0.000000</td>\n",
              "      <td>0.000000</td>\n",
              "      <td>0.000000</td>\n",
              "    </tr>\n",
              "    <tr>\n",
              "      <th>25%</th>\n",
              "      <td>20.000000</td>\n",
              "      <td>4.000000</td>\n",
              "      <td>1.000000</td>\n",
              "      <td>1.300000</td>\n",
              "    </tr>\n",
              "    <tr>\n",
              "      <th>50%</th>\n",
              "      <td>76.000000</td>\n",
              "      <td>56.000000</td>\n",
              "      <td>8.000000</td>\n",
              "      <td>4.200000</td>\n",
              "    </tr>\n",
              "    <tr>\n",
              "      <th>75%</th>\n",
              "      <td>188.000000</td>\n",
              "      <td>128.000000</td>\n",
              "      <td>59.000000</td>\n",
              "      <td>7.200000</td>\n",
              "    </tr>\n",
              "    <tr>\n",
              "      <th>max</th>\n",
              "      <td>376.000000</td>\n",
              "      <td>438.000000</td>\n",
              "      <td>370.000000</td>\n",
              "      <td>14.400000</td>\n",
              "    </tr>\n",
              "  </tbody>\n",
              "</table>\n",
              "</div>"
            ],
            "text/plain": [
              "       beer_servings  ...  total_litres_of_pure_alcohol\n",
              "count     193.000000  ...                    193.000000\n",
              "mean      106.160622  ...                      4.717098\n",
              "std       101.143103  ...                      3.773298\n",
              "min         0.000000  ...                      0.000000\n",
              "25%        20.000000  ...                      1.300000\n",
              "50%        76.000000  ...                      4.200000\n",
              "75%       188.000000  ...                      7.200000\n",
              "max       376.000000  ...                     14.400000\n",
              "\n",
              "[8 rows x 4 columns]"
            ]
          },
          "metadata": {
            "tags": []
          },
          "execution_count": 143
        }
      ]
    },
    {
      "cell_type": "code",
      "metadata": {
        "id": "XOUj6I7TirkU",
        "outputId": "b20bc196-2862-495b-bce4-151b59ca19b2",
        "colab": {
          "base_uri": "https://localhost:8080/",
          "height": 69
        }
      },
      "source": [
        "#===========================================================================================\n",
        "#step 2 인사이트의 발견 \n",
        "#피쳐간의 상관관계 탐색(ex. 키와 몸무게의 관계...)\n",
        "#상관계수 구하기 \n",
        "#bear_servings , wine_servings 의 상관계수를 구해보자\n",
        "#pearson은 상관계수를 구하는 계산 방법 중 하나이며 가장 널리 쓰이는 방법이다\n",
        "\n",
        "corr = drinks[['beer_servings','wine_servings']].corr(method='pearson')\n",
        "print(corr)"
      ],
      "execution_count": 149,
      "outputs": [
        {
          "output_type": "stream",
          "text": [
            "               beer_servings  wine_servings\n",
            "beer_servings       1.000000       0.527172\n",
            "wine_servings       0.527172       1.000000\n"
          ],
          "name": "stdout"
        }
      ]
    },
    {
      "cell_type": "code",
      "metadata": {
        "id": "mi3UHGylk03T"
      },
      "source": [
        "#상관 분석\n",
        "#상관 분석이란 두 변수 간의 선형적 관계를 상관계수로 표현하는 것이다\n",
        "#상관 계수를 구한다는 것은 공분산의 개념을 포함한다\n",
        "#공분산은 2개의 확률 변수에 대한 상관 정도로 2개의 변수 중 하나의 값이 상승하는 경향을 보일 때 \n",
        "#다른 값도 상승하는 경향을 수치로 나타낸 것이다\n",
        "#공분산만으로 두 확률 변수의 상관 관계를 구하게 되면 두변수의 단위 크기에 따라 영향을 받을 수 밖에 없다\n",
        "#따라서 -1에서 1사이의 값으로 바꾸어 표현한 것을 상관 계수라고 한다\n"
      ],
      "execution_count": 150,
      "outputs": []
    },
    {
      "cell_type": "code",
      "metadata": {
        "id": "Em1qhlRRmSeQ",
        "outputId": "1b192320-a95a-44cd-bf55-36d477b88ba3",
        "colab": {
          "base_uri": "https://localhost:8080/",
          "height": 139
        }
      },
      "source": [
        "cols = ['beer_servings','spirit_servings','wine_servings','total_litres_of_pure_alcohol']\n",
        "corr = drinks[cols].corr(method='pearson')\n",
        "print(corr)"
      ],
      "execution_count": 156,
      "outputs": [
        {
          "output_type": "stream",
          "text": [
            "                              beer_servings  ...  total_litres_of_pure_alcohol\n",
            "beer_servings                      1.000000  ...                      0.835839\n",
            "spirit_servings                    0.458819  ...                      0.654968\n",
            "wine_servings                      0.527172  ...                      0.667598\n",
            "total_litres_of_pure_alcohol       0.835839  ...                      1.000000\n",
            "\n",
            "[4 rows x 4 columns]\n"
          ],
          "name": "stdout"
        }
      ]
    },
    {
      "cell_type": "code",
      "metadata": {
        "id": "2_3W5oSstxKZ",
        "outputId": "4b41f926-4b7f-446a-febc-1484c7f701e0",
        "colab": {
          "base_uri": "https://localhost:8080/",
          "height": 280
        }
      },
      "source": [
        "import seaborn as sns\n",
        "import matplotlib.pyplot as plt\n",
        "\n",
        "cols_view = ['beer', 'spirit', 'wine', 'alcohol'] # 그래프 출력을 위한 cols 이름을 축약합니다.\n",
        "\n",
        "sns.set(font_scale=1.5)\n",
        "\n",
        "hm = sns.heatmap(corr.values,\n",
        "\n",
        "            cbar=True,\n",
        "\n",
        "            annot=True, \n",
        "\n",
        "            square=True,\n",
        "\n",
        "            fmt='.2f',\n",
        "\n",
        "            annot_kws={'size': 15},\n",
        "\n",
        "            yticklabels=cols_view,\n",
        "\n",
        "            xticklabels=cols_view)\n",
        "\n",
        " \n",
        "\n",
        "plt.tight_layout()\n",
        "\n",
        "plt.show()"
      ],
      "execution_count": 158,
      "outputs": [
        {
          "output_type": "display_data",
          "data": {
            "image/png": "[encoded data removed]",
            "text/plain": [
              "<Figure size 432x288 with 2 Axes>"
            ]
          },
          "metadata": {
            "tags": []
          }
        }
      ]
    }
  ]
}